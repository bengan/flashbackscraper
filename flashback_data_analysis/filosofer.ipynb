{
 "cells": [
  {
   "cell_type": "code",
   "execution_count": 2,
   "metadata": {},
   "outputs": [],
   "source": [
    "import pandas as pd\n",
    "import sqlite3\n",
    "from collections import Counter"
   ]
  },
  {
   "cell_type": "markdown",
   "metadata": {},
   "source": [
    "Note: the list of philosopher is taken from here https://sv.wikipedia.org/wiki/Lista_%C3%B6ver_filosofer then cleaned up to include only the last name.\n",
    "\n",
    "Note 2: this is just an example and should be interpreted carefully. "
   ]
  },
  {
   "cell_type": "code",
   "execution_count": 3,
   "metadata": {},
   "outputs": [],
   "source": [
    "conn = sqlite3.connect(\"flashback_filosofi.sqlite3\")"
   ]
  },
  {
   "cell_type": "code",
   "execution_count": 4,
   "metadata": {},
   "outputs": [
    {
     "name": "stdout",
     "output_type": "stream",
     "text": [
      "['Abelard', 'Adler', 'Adorno', 'Magnus', 'Ahlberg', 'Albritton', \"d'Alembert\", 'store', 'Anacharsis', 'Anaxagoras', 'Anaximander', 'Anaximenes', 'Anscombe', 'Anselm', 'Antifon', 'Askalon', 'Tarsos', 'Antisthenes', 'Arkimedes', 'Arendt', 'Aristarchos', 'Aristippos', 'Aristoteles', 'Augustinus', 'Aurelius', 'Austin', 'Averroës', 'Avicenna', 'Ayer', 'Norgren', 'Baader', 'Bachelard', 'Bacon', 'Bacon', 'Bain', 'Bard', 'Bauer', 'Benacerraf', 'Benjamin', 'Bentham', 'Berkeley', 'Berlin', 'Biel', 'Binning', 'Bonaventura', 'Boole', 'Boolos', 'Bordo', 'Bostrom', 'Boström', 'Bradwardine', 'Bradley', 'Brahe', 'Brandom', 'Boëthius', 'Boëthius', 'Brentano', 'Bruno', 'Brunschvicg', 'Buber', 'Bunge', 'Buridanus', 'Burke', 'Camus', 'Carnap', 'Cavell', 'Chalmers', 'Churchland', 'Cicero', 'Claëson', 'Colletti', 'Collingwood', 'Comte', 'Condillac', 'Condorcet', 'Copleston', 'Cousin', 'Crellius', 'Croce', 'Cudworth', 'Cusanus', 'Darwin', 'Davidson', 'Beauvoir', 'Debord', 'Deleuze', 'Volpe', 'Demokritos', 'Demosthenes', 'Dennett', 'Derrida', 'Descartes', 'Dewey', 'Diamond', 'Diderot', 'Dilthey', 'Sinope', 'Apollonia', 'Seleukia', 'Laërtios', 'd.y.', 'Zenji', 'Dummett', 'Scotus', 'Hochheim', 'Eliade', 'Emerson', 'Empedokles', 'Epiktetos', 'Epikuros', 'Erasmus', 'Eratostenes', 'Erigena', 'Miletos', 'Eudoxos', 'Euklides', 'Megara', 'Evans', 'Feuerbach', 'Feyerabend', 'Fichte', 'Fichte', 'Ficino', 'Filon', 'Larissa', 'Filolaos', 'Fiore', 'Flew', 'Foot', 'Foucault', 'Frege', 'Freud', 'Fries', 'Furberg', 'Gadamer', 'Galenos', 'Galilei', 'Gautama', 'Gauthier', 'Geach', 'Gettier', 'Gibran', 'Goethe', 'Gorgias', 'Godwin', 'Goodman', 'Goslicki', 'Gramsci', 'Grant', 'Grotius', 'Grubbe', 'Guattari', 'Haack', 'Habermas', 'Halldén', 'Hare', 'Harvey', 'Haugeland', 'Hayek', 'Hegel', 'Hegesias', 'Heidegger', 'Heller', 'Hempel', 'Herakleitos', 'Herder', 'Herodotos', 'Heron', 'Elis', 'Hippokrates', 'Hobbes', 'Hofstadter', 'Horkheimer', 'Hume', 'Husserl', 'Hägerström', 'Ibn-Rushd', 'Ibn-Sina', 'Isokrates', 'James', 'Jaspers', 'Scotus', 'Kames', 'Kant', 'Karneades', 'yngre', 'Khaldun', 'Kepler', 'Kierkegaard', 'Kjellén', 'Kleanthes', 'Kleitomachos', 'Konfucius', 'Kopernicus', 'Thebe', 'Tarsos', 'Kripke', 'Krysippos', 'Kuhn', 'Lakatos', 'Zi', 'Laromiguière', 'Laudan', 'Leibniz', 'Vinci', 'f.Kr.', 'Lewis', 'Lewis', 'Levinas', 'Linné', 'Locke', 'Luther', 'Lyotard', 'Machiavelli', 'Mackie', 'MacIntyre', 'Maharbal', 'Biran', 'Malebranche', 'Maimonides', 'Marcel', 'Marcuse', 'Padua', 'Marx', 'Matz', 'McDowell', 'McLuhan', 'McTaggart', 'Megasthenes', 'Meinong', 'Merleau-Ponty', 'Midgley', 'Mill', 'Mill', 'Montesquieu', 'Montaigne', 'Moore', 'More', 'Mårtensson', 'Nagarjuna', 'Nagel', 'Nagel', 'd.ä.', 'Nelson', 'Neurath', 'Newton', 'Nietzsche', 'Nozick', 'Nussbaum', 'Ockham', 'Offe', 'Onfray', 'Otto', 'Oresme', 'Gasset', 'Ortiz-Osés', 'Panaitios', 'Paracelsus', 'Pareto', 'Parfit', 'Elea', 'Pascal', 'Paulus', 'Peirce', 'Mirandola', 'Pinker', 'Plantinga', 'Platon', 'Plotinos', 'Popper', 'Prodikos', 'Protagoras', 'Proudhon', 'Ptolemaios', 'Putnam', 'Ellis', 'Pythagoras', 'Quine', 'Ramsey', 'Rand', 'Rawls', 'Reichenbach', 'Reid', 'Reitemeyer', 'Rorty', 'Rota', 'Razi', 'Rousseau', 'Royer-Collard', 'Russell', 'Ryle', 'Sade', 'Santayana', 'Sartre', 'Saul', 'Schaeffer', 'Schelling', 'Schiller', 'Schleiermacher', 'Schlick', 'Schopenhauer', 'Schweitzer', 'Searle', 'Sellars', 'Sen', 'yngre', 'Serres', 'Shoemaker', 'Sidgwick', 'Singer', 'Sneed', 'Sokrates', 'Spencer', 'Spengler', 'Spinoza', 'Steiner', 'Spooner', 'Stallman', 'Stewart', 'Stiegler', 'Stirner', 'Ström', 'Strauss', 'Strauss', 'Söderqvist', 'Tagore', 'Taylor', 'Thoreau', 'Tillich', 'Miletos', 'Aquino', 'Thrasymachos', 'Tucker', 'Tännsjö', 'Unamuno', 'Vaneigem', 'Vico', 'Voegelin', 'Voltaire', 'Weber', 'Wedberg', 'Whitehead', 'Williamson', 'Wittgenstein', 'Wolff', 'Wollaston', 'Wollstonecraft', 'Wright', 'Xenophanes', 'Zenon', 'Zuboff', 'Zizek']\n"
     ]
    }
   ],
   "source": [
    "filosofer = []\n",
    "with open(\"filosofer.txt\", \"r\") as filolist:\n",
    "    filonamn = filolist.readlines()\n",
    "    for f in filonamn:\n",
    "        if \" \" not in f:\n",
    "            filosofer.append(f.strip(\"\\n\"))\n",
    "        else:\n",
    "            if \" \" in f.strip(\"\\n\"):\n",
    "                splitname = f.split(\" \")\n",
    "                filosofer.append((splitname[-1].strip(\"\\n\")))\n",
    "\n",
    "print(filosofer)"
   ]
  },
  {
   "cell_type": "code",
   "execution_count": 5,
   "metadata": {},
   "outputs": [
    {
     "name": "stdout",
     "output_type": "stream",
     "text": [
      "4648\n"
     ]
    }
   ],
   "source": [
    "df = pd.read_sql_query(\"SELECT * FROM fb\", conn)\n",
    "print(len(df))"
   ]
  },
  {
   "cell_type": "code",
   "execution_count": 6,
   "metadata": {},
   "outputs": [
    {
     "data": {
      "text/html": [
       "<div>\n",
       "<style scoped>\n",
       "    .dataframe tbody tr th:only-of-type {\n",
       "        vertical-align: middle;\n",
       "    }\n",
       "\n",
       "    .dataframe tbody tr th {\n",
       "        vertical-align: top;\n",
       "    }\n",
       "\n",
       "    .dataframe thead th {\n",
       "        text-align: right;\n",
       "    }\n",
       "</style>\n",
       "<table border=\"1\" class=\"dataframe\">\n",
       "  <thead>\n",
       "    <tr style=\"text-align: right;\">\n",
       "      <th></th>\n",
       "      <th>id</th>\n",
       "      <th>idnumber</th>\n",
       "      <th>user</th>\n",
       "      <th>date</th>\n",
       "      <th>time</th>\n",
       "      <th>body</th>\n",
       "      <th>inreply</th>\n",
       "      <th>title</th>\n",
       "      <th>path</th>\n",
       "    </tr>\n",
       "  </thead>\n",
       "  <tbody>\n",
       "    <tr>\n",
       "      <th>0</th>\n",
       "      <td>1</td>\n",
       "      <td>37183377</td>\n",
       "      <td>adequate</td>\n",
       "      <td>2012-05-05</td>\n",
       "      <td>03:10</td>\n",
       "      <td>Villkor för trådar i Akademisk filosofi är som...</td>\n",
       "      <td>none</td>\n",
       "      <td>Villkor för trådar i Akademisk filosofi</td>\n",
       "      <td>['Alla forum', 'Vetenskap &amp; humaniora', 'Filos...</td>\n",
       "    </tr>\n",
       "    <tr>\n",
       "      <th>1</th>\n",
       "      <td>2</td>\n",
       "      <td>65864869</td>\n",
       "      <td>jipeess</td>\n",
       "      <td>2018-11-17</td>\n",
       "      <td>21:10</td>\n",
       "      <td>har den en rationell förklaring,\\rdvs, \\rom fr...</td>\n",
       "      <td>none</td>\n",
       "      <td>naturalism och ansvarsfrågan...</td>\n",
       "      <td>['Alla forum', 'Vetenskap &amp; humaniora', 'Filos...</td>\n",
       "    </tr>\n",
       "    <tr>\n",
       "      <th>2</th>\n",
       "      <td>3</td>\n",
       "      <td>65869493</td>\n",
       "      <td>justformybaby</td>\n",
       "      <td>2018-11-18</td>\n",
       "      <td>13:04</td>\n",
       "      <td>handling och konsekvens.</td>\n",
       "      <td>none</td>\n",
       "      <td>naturalism och ansvarsfrågan...</td>\n",
       "      <td>['Alla forum', 'Vetenskap &amp; humaniora', 'Filos...</td>\n",
       "    </tr>\n",
       "    <tr>\n",
       "      <th>3</th>\n",
       "      <td>4</td>\n",
       "      <td>65883328</td>\n",
       "      <td>frasselito</td>\n",
       "      <td>2018-11-20</td>\n",
       "      <td>00:37</td>\n",
       "      <td>Citat: Ursprungligen postat av jipeess\\rom fri...</td>\n",
       "      <td>jipeess</td>\n",
       "      <td>naturalism och ansvarsfrågan...</td>\n",
       "      <td>['Alla forum', 'Vetenskap &amp; humaniora', 'Filos...</td>\n",
       "    </tr>\n",
       "    <tr>\n",
       "      <th>4</th>\n",
       "      <td>5</td>\n",
       "      <td>65884662</td>\n",
       "      <td>jipeess</td>\n",
       "      <td>2018-11-20</td>\n",
       "      <td>08:20</td>\n",
       "      <td>Citat: Ursprungligen postat av frasselitoom ma...</td>\n",
       "      <td>frasselito</td>\n",
       "      <td>naturalism och ansvarsfrågan...</td>\n",
       "      <td>['Alla forum', 'Vetenskap &amp; humaniora', 'Filos...</td>\n",
       "    </tr>\n",
       "  </tbody>\n",
       "</table>\n",
       "</div>"
      ],
      "text/plain": [
       "   id  idnumber           user        date   time  \\\n",
       "0   1  37183377       adequate  2012-05-05  03:10   \n",
       "1   2  65864869        jipeess  2018-11-17  21:10   \n",
       "2   3  65869493  justformybaby  2018-11-18  13:04   \n",
       "3   4  65883328     frasselito  2018-11-20  00:37   \n",
       "4   5  65884662        jipeess  2018-11-20  08:20   \n",
       "\n",
       "                                                body     inreply  \\\n",
       "0  Villkor för trådar i Akademisk filosofi är som...        none   \n",
       "1  har den en rationell förklaring,\\rdvs, \\rom fr...        none   \n",
       "2                           handling och konsekvens.        none   \n",
       "3  Citat: Ursprungligen postat av jipeess\\rom fri...     jipeess   \n",
       "4  Citat: Ursprungligen postat av frasselitoom ma...  frasselito   \n",
       "\n",
       "                                     title  \\\n",
       "0  Villkor för trådar i Akademisk filosofi   \n",
       "1          naturalism och ansvarsfrågan...   \n",
       "2          naturalism och ansvarsfrågan...   \n",
       "3          naturalism och ansvarsfrågan...   \n",
       "4          naturalism och ansvarsfrågan...   \n",
       "\n",
       "                                                path  \n",
       "0  ['Alla forum', 'Vetenskap & humaniora', 'Filos...  \n",
       "1  ['Alla forum', 'Vetenskap & humaniora', 'Filos...  \n",
       "2  ['Alla forum', 'Vetenskap & humaniora', 'Filos...  \n",
       "3  ['Alla forum', 'Vetenskap & humaniora', 'Filos...  \n",
       "4  ['Alla forum', 'Vetenskap & humaniora', 'Filos...  "
      ]
     },
     "execution_count": 6,
     "metadata": {},
     "output_type": "execute_result"
    }
   ],
   "source": [
    "df.head()"
   ]
  },
  {
   "cell_type": "code",
   "execution_count": 7,
   "metadata": {},
   "outputs": [],
   "source": [
    "citedphilosophers = [] \n",
    "for text in df.body:\n",
    "    for filosof in filosofer:\n",
    "        if filosof in text:\n",
    "            citedphilosophers.append(filosof)"
   ]
  },
  {
   "cell_type": "code",
   "execution_count": 8,
   "metadata": {},
   "outputs": [
    {
     "name": "stdout",
     "output_type": "stream",
     "text": [
      "Heidegger \t 346\n",
      "Platon \t 219\n",
      "Sen \t 205\n",
      "Wittgenstein \t 194\n",
      "Kant \t 177\n",
      "Nietzsche \t 140\n",
      "Hegel \t 123\n",
      "Russell \t 114\n",
      "Hume \t 109\n",
      "Foucault \t 102\n",
      "Frege \t 98\n",
      "Popper \t 88\n",
      "Husserl \t 87\n",
      "Sokrates \t 83\n",
      "Derrida \t 83\n",
      "Descartes \t 82\n",
      "Sartre \t 76\n",
      "Mill \t 76\n",
      "Aristoteles \t 58\n",
      "Marx \t 54\n"
     ]
    }
   ],
   "source": [
    "for name in Counter(citedphilosophers).most_common(20):\n",
    "    print(name[0], \"\\t\", name[1])"
   ]
  },
  {
   "cell_type": "code",
   "execution_count": null,
   "metadata": {},
   "outputs": [],
   "source": []
  }
 ],
 "metadata": {
  "kernelspec": {
   "display_name": "Python 3",
   "language": "python",
   "name": "python3"
  },
  "language_info": {
   "codemirror_mode": {
    "name": "ipython",
    "version": 3
   },
   "file_extension": ".py",
   "mimetype": "text/x-python",
   "name": "python",
   "nbconvert_exporter": "python",
   "pygments_lexer": "ipython3",
   "version": "3.6.4"
  }
 },
 "nbformat": 4,
 "nbformat_minor": 2
}
